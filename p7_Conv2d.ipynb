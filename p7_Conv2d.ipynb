{
 "cells": [
  {
   "cell_type": "markdown",
   "metadata": {},
   "source": [
    "##### 7、Convolution"
   ]
  },
  {
   "cell_type": "code",
   "execution_count": 1,
   "metadata": {},
   "outputs": [],
   "source": [
    "import torch\n",
    "from torch import nn"
   ]
  },
  {
   "cell_type": "code",
   "execution_count": 2,
   "metadata": {},
   "outputs": [
    {
     "name": "stdout",
     "output_type": "stream",
     "text": [
      "torch.Size([5, 5])\n",
      "torch.Size([3, 3])\n"
     ]
    }
   ],
   "source": [
    "#input data\n",
    "\n",
    "data_in = torch.tensor([[1,2,0,3,1],\n",
    "                        [0,1,2,3,1],\n",
    "                        [1,2,1,0,0],\n",
    "                        [5,2,3,1,1],\n",
    "                        [2,1,0,1,1]])\n",
    "\n",
    "kernel = torch.tensor([[1,2,1],\n",
    "                       [0,1,0],\n",
    "                       [2,1,0]])\n",
    "\n",
    "print(data_in.shape)\n",
    "print(kernel.shape)"
   ]
  },
  {
   "cell_type": "code",
   "execution_count": 3,
   "metadata": {},
   "outputs": [],
   "source": [
    "#尺寸变换 -- suit for conv2d\n",
    "data_reshape = torch.reshape(data_in,(1,1,5,5))\n",
    "kernel_reshape = torch.reshape(kernel,(1,1,3,3))"
   ]
  },
  {
   "cell_type": "code",
   "execution_count": 4,
   "metadata": {},
   "outputs": [
    {
     "name": "stdout",
     "output_type": "stream",
     "text": [
      "tensor([[[[10, 12, 12],\n",
      "          [18, 16, 16],\n",
      "          [13,  9,  3]]]])\n"
     ]
    }
   ],
   "source": [
    "#apply conv2d\n",
    "import torch.nn.functional as F\n",
    "\n",
    "data_out = F.conv2d(\n",
    "                    data_reshape,\n",
    "                    kernel_reshape,\n",
    "                    stride = 1)\n",
    "\n",
    "print(data_out)"
   ]
  },
  {
   "cell_type": "code",
   "execution_count": 5,
   "metadata": {},
   "outputs": [
    {
     "name": "stdout",
     "output_type": "stream",
     "text": [
      "tensor([[[[ 1,  3,  4, 10,  8],\n",
      "          [ 5, 10, 12, 12,  6],\n",
      "          [ 7, 18, 16, 16,  8],\n",
      "          [11, 13,  9,  3,  4],\n",
      "          [14, 13,  9,  7,  4]]]])\n"
     ]
    }
   ],
   "source": [
    "#padding\n",
    "data_out2 = F.conv2d(data_reshape,\n",
    "                     kernel_reshape,\n",
    "                     stride = 1,\n",
    "                     padding = 'same')\n",
    "\n",
    "print(data_out2)"
   ]
  },
  {
   "cell_type": "code",
   "execution_count": 6,
   "metadata": {},
   "outputs": [
    {
     "name": "stdout",
     "output_type": "stream",
     "text": [
      "Files already downloaded and verified\n",
      "<torch.utils.data.dataloader.DataLoader object at 0x00000272FCB2DFF0>\n",
      "Dataset CIFAR10\n",
      "    Number of datapoints: 10000\n",
      "    Root location: dataset_p4\n",
      "    Split: Test\n",
      "    StandardTransform\n",
      "Transform: ToTensor()\n"
     ]
    }
   ],
   "source": [
    "#examples -nn -conv2d\n",
    "import torch\n",
    "import torchvision\n",
    "from torch.utils.data import DataLoader\n",
    "\n",
    "#load the datas\n",
    "dataset = torchvision.datasets.CIFAR10(\"dataset_p4\",\n",
    "                                       train = False,\n",
    "                                       transform = torchvision.transforms.ToTensor(),\n",
    "                                       download = True)\n",
    "\n",
    "loader = DataLoader(dataset,\n",
    "                    batch_size = 64,\n",
    "                    drop_last = True)\n",
    "print(loader)\n",
    "print(dataset)"
   ]
  },
  {
   "cell_type": "code",
   "execution_count": 7,
   "metadata": {},
   "outputs": [],
   "source": [
    "#bulit nn_works\n",
    "from torch import nn\n",
    "from torch.nn import Conv2d\n",
    "\n",
    "class mynn(nn.Module):\n",
    "    def __init__(self):\n",
    "        super(mynn,self).__init__()\n",
    "\n",
    "        self.conv1 = Conv2d(in_channels = 3,\n",
    "                            out_channels = 6,\n",
    "                            kernel_size = 3,\n",
    "                            stride = 1,\n",
    "                            padding = 0)\n",
    "    \n",
    "    def forward(self,x):\n",
    "        x = self.conv1(x)\n",
    "        return x"
   ]
  },
  {
   "cell_type": "code",
   "execution_count": 8,
   "metadata": {},
   "outputs": [
    {
     "name": "stdout",
     "output_type": "stream",
     "text": [
      "mynn(\n",
      "  (conv1): Conv2d(3, 6, kernel_size=(3, 3), stride=(1, 1))\n",
      ")\n"
     ]
    }
   ],
   "source": [
    "nn1 = mynn()\n",
    "print(nn1)"
   ]
  },
  {
   "cell_type": "code",
   "execution_count": 9,
   "metadata": {},
   "outputs": [],
   "source": [
    "#progress_bar\n",
    "from pro_bar import progress_bar"
   ]
  },
  {
   "cell_type": "code",
   "execution_count": 10,
   "metadata": {},
   "outputs": [
    {
     "name": "stdout",
     "output_type": "stream",
     "text": [
      "|■■■■■■■■■■■■■■■■■■■■■■■■■■■■■■■■■■■■■■■■■■■■■■■■■■| 100.0%"
     ]
    }
   ],
   "source": [
    "from torch.utils.tensorboard import SummaryWriter\n",
    "writer = SummaryWriter(\"logs\")\n",
    "\n",
    "pb = progress_bar(total = 10000 / 64)\n",
    "\n",
    "step = 1\n",
    "for data in loader:\n",
    "    imgs,targets = data\n",
    "    data_out = nn1(imgs)\n",
    "\n",
    "    writer.add_images(\"input\",imgs,step)\n",
    "\n",
    "    #outputs have 6 channels\n",
    "    data_out_reshape = torch.reshape(data_out,(-1,3,30,30))\n",
    "    writer.add_images(\"after_conv2d\",data_out_reshape,step)\n",
    "\n",
    "#     print('\\r' +\n",
    "#           '[' +\n",
    "#           '>' * int(step / 3) +\n",
    "#           '-' * (int(10000 / 64 / 3) - int(step / 3)) +\n",
    "#           ']' +\n",
    "#           str(round(((step / (int(10000 / 64))) * 100),2)) +\n",
    "#           '%',\n",
    "#           end = '')\n",
    "    pb.show(step)\n",
    "    step += 1"
   ]
  },
  {
   "cell_type": "code",
   "execution_count": null,
   "metadata": {},
   "outputs": [],
   "source": []
  }
 ],
 "metadata": {
  "kernelspec": {
   "display_name": "Python 3",
   "language": "python",
   "name": "python3"
  },
  "language_info": {
   "codemirror_mode": {
    "name": "ipython",
    "version": 3
   },
   "file_extension": ".py",
   "mimetype": "text/x-python",
   "name": "python",
   "nbconvert_exporter": "python",
   "pygments_lexer": "ipython3",
   "version": "3.10.13"
  }
 },
 "nbformat": 4,
 "nbformat_minor": 2
}
