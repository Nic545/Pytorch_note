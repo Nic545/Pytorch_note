{
 "cells": [
  {
   "cell_type": "markdown",
   "metadata": {},
   "source": [
    "##### 4、数据集和transforms的结合"
   ]
  },
  {
   "cell_type": "code",
   "execution_count": 1,
   "metadata": {},
   "outputs": [],
   "source": [
    "import torchvision"
   ]
  },
  {
   "cell_type": "code",
   "execution_count": 2,
   "metadata": {},
   "outputs": [
    {
     "name": "stdout",
     "output_type": "stream",
     "text": [
      "Downloading https://www.cs.toronto.edu/~kriz/cifar-10-python.tar.gz to ./dataset_p4\\cifar-10-python.tar.gz\n"
     ]
    },
    {
     "name": "stderr",
     "output_type": "stream",
     "text": [
      "100.0%\n"
     ]
    },
    {
     "name": "stdout",
     "output_type": "stream",
     "text": [
      "Extracting ./dataset_p4\\cifar-10-python.tar.gz to ./dataset_p4\n",
      "Files already downloaded and verified\n"
     ]
    }
   ],
   "source": [
    "#导入数据集\n",
    "train_set = torchvision.datasets.CIFAR10(root = \"./dataset_p4\",\n",
    "                                         train = True,\n",
    "                                         download = True)\n",
    "tset_set = torchvision.datasets.CIFAR10(root = \"./dataset_p4\",\n",
    "                                        train = False,\n",
    "                                        download = True)"
   ]
  },
  {
   "cell_type": "code",
   "execution_count": 8,
   "metadata": {},
   "outputs": [
    {
     "name": "stdout",
     "output_type": "stream",
     "text": [
      "9\n"
     ]
    }
   ],
   "source": [
    "#查看数据集\n",
    "'''\n",
    "The lables are \"airplane,automobile,bird,cat,deer,dog,frog,horse,ship,truck\"\n",
    "listed as 0~10\n",
    "'''\n",
    "from PIL import Image\n",
    "index = 2\n",
    "img,label = train_set[index]\n",
    "img.show()\n",
    "print(label)"
   ]
  },
  {
   "cell_type": "code",
   "execution_count": 16,
   "metadata": {},
   "outputs": [
    {
     "name": "stdout",
     "output_type": "stream",
     "text": [
      "Files already downloaded and verified\n",
      "Files already downloaded and verified\n"
     ]
    }
   ],
   "source": [
    "#use compose to automatic work\n",
    "\n",
    "data_trans = torchvision.transforms.Compose([torchvision.transforms.ToTensor()])\n",
    "\n",
    "train_set = torchvision.datasets.CIFAR10(root = \"./dataset_p4/\",\n",
    "                                         train = True,\n",
    "                                         transform = data_trans,\n",
    "                                         download = True)\n",
    "test_set = torchvision.datasets.CIFAR10(root = \"./dataset_p4/\",\n",
    "                                         train = False,\n",
    "                                         transform = data_trans,\n",
    "                                         download = True)"
   ]
  },
  {
   "cell_type": "code",
   "execution_count": 17,
   "metadata": {},
   "outputs": [
    {
     "name": "stdout",
     "output_type": "stream",
     "text": [
      "torch.Size([3, 32, 32])\n",
      "torch.FloatTensor\n"
     ]
    }
   ],
   "source": [
    "print(test_set[0][0].shape)\n",
    "print(test_set[0][0].type())"
   ]
  },
  {
   "cell_type": "code",
   "execution_count": 15,
   "metadata": {},
   "outputs": [],
   "source": [
    "from torch.utils.tensorboard import SummaryWriter\n",
    "\n",
    "writer = SummaryWriter(\"logs\")\n",
    "\n",
    "for i in range(10):\n",
    "    writer.add_image(\"test_sets\",test_set[i][0],(i + 1))\n",
    "\n",
    "writer.close()"
   ]
  },
  {
   "cell_type": "code",
   "execution_count": null,
   "metadata": {},
   "outputs": [],
   "source": []
  }
 ],
 "metadata": {
  "kernelspec": {
   "display_name": "Python 3",
   "language": "python",
   "name": "python3"
  },
  "language_info": {
   "codemirror_mode": {
    "name": "ipython",
    "version": 3
   },
   "file_extension": ".py",
   "mimetype": "text/x-python",
   "name": "python",
   "nbconvert_exporter": "python",
   "pygments_lexer": "ipython3",
   "version": "3.10.13"
  }
 },
 "nbformat": 4,
 "nbformat_minor": 2
}
