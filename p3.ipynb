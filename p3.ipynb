{
 "cells": [
  {
   "cell_type": "markdown",
   "metadata": {},
   "source": [
    "##### 3、transforms的使用"
   ]
  },
  {
   "cell_type": "code",
   "execution_count": 1,
   "metadata": {},
   "outputs": [],
   "source": [
    "from torchvision import transforms\n",
    "from PIL import Image"
   ]
  },
  {
   "cell_type": "code",
   "execution_count": 2,
   "metadata": {},
   "outputs": [],
   "source": [
    "img_path = \"Dataset\\\\hymenoptera_data\\\\train\\\\ants\\\\0013035.jpg\"\n",
    "img = Image.open(img_path)\n",
    "img.show()"
   ]
  },
  {
   "cell_type": "code",
   "execution_count": 3,
   "metadata": {},
   "outputs": [
    {
     "name": "stdout",
     "output_type": "stream",
     "text": [
      "<built-in method type of Tensor object at 0x000002924630C5E0>\n"
     ]
    }
   ],
   "source": [
    "tensor_trans = transforms.ToTensor()\n",
    "tensor_img = tensor_trans(img)\n",
    "print(tensor_img.type)  #转变为了tensor的数据类型"
   ]
  },
  {
   "cell_type": "code",
   "execution_count": 4,
   "metadata": {},
   "outputs": [],
   "source": [
    "# 也可以读取np.array()类型的数据\n",
    "import numpy as np\n",
    "tensor_np = np.array(img)\n",
    "tensor_img_np = tensor_trans(tensor_np)\n",
    "# print(tensor_img_np)"
   ]
  },
  {
   "cell_type": "code",
   "execution_count": 5,
   "metadata": {},
   "outputs": [],
   "source": [
    "from torch.utils.tensorboard import SummaryWriter\n",
    "writer = SummaryWriter(\"logs\")\n",
    "\n",
    "writer.add_image(\"ants\",tensor_img,1)\n",
    "writer.add_image(\"ants\",tensor_img_np,2)"
   ]
  },
  {
   "cell_type": "markdown",
   "metadata": {},
   "source": [
    "* 常见的transforms"
   ]
  },
  {
   "cell_type": "code",
   "execution_count": 6,
   "metadata": {},
   "outputs": [],
   "source": [
    "#读取一张图片\n",
    "from PIL import Image\n",
    "from torchvision import transforms\n",
    "from torch.utils.tensorboard import SummaryWriter\n",
    "\n",
    "writer = SummaryWriter(\"logs\")\n",
    "trans_to_tensor = transforms.ToTensor()\n",
    "\n",
    "img_path = \"Dataset\\\\hymenoptera_data\\\\train\\\\ants\\\\0013035.jpg\"\n",
    "img = Image.open(img_path)\n",
    "\n",
    "img_tensor = trans_to_tensor(img)\n",
    "writer.add_image(\"Totensor\",img_tensor,1)\n",
    "writer.close()"
   ]
  },
  {
   "cell_type": "code",
   "execution_count": 7,
   "metadata": {},
   "outputs": [],
   "source": [
    "#normalize3\n",
    "norm = transforms.Normalize([6,3,2],[9,3,5])\n",
    "img_norm = norm(img_tensor)\n",
    "\n",
    "writer.add_image(\"norm\",img_norm,2)"
   ]
  },
  {
   "cell_type": "code",
   "execution_count": 8,
   "metadata": {},
   "outputs": [
    {
     "name": "stdout",
     "output_type": "stream",
     "text": [
      "(768, 512)\n",
      "(512, 512)\n"
     ]
    }
   ],
   "source": [
    "#Resize\n",
    "resize = transforms.Resize((512,512))\n",
    "img_resize = resize(img)\n",
    "\n",
    "print(img.size)\n",
    "print(img_resize.size)\n",
    "\n",
    "img_resize.show()#返回值仍为PIL类型"
   ]
  },
  {
   "cell_type": "code",
   "execution_count": 9,
   "metadata": {},
   "outputs": [
    {
     "name": "stdout",
     "output_type": "stream",
     "text": [
      "torch.FloatTensor\n",
      "torch.Size([3, 512, 512])\n"
     ]
    }
   ],
   "source": [
    "#compose\n",
    "resize2 = transforms.Resize((512,512))\n",
    "totensor = transforms.ToTensor()\n",
    "compose = transforms.Compose([resize2,totensor])\n",
    "\n",
    "img_compose = compose(img)\n",
    "\n",
    "print(img_compose.type())\n",
    "print(img_compose.shape)"
   ]
  },
  {
   "cell_type": "code",
   "execution_count": 11,
   "metadata": {},
   "outputs": [
    {
     "name": "stdout",
     "output_type": "stream",
     "text": [
      "torch.Size([3, 512, 512])\n"
     ]
    }
   ],
   "source": [
    "#RandomCrop\n",
    "rancrop = transforms.RandomCrop(512)\n",
    "totensor = transforms.ToTensor()\n",
    "\n",
    "compose = transforms.Compose([rancrop,totensor])\n",
    "img_crop = compose(img)\n",
    "\n",
    "print(img_crop.shape)\n",
    "writer.add_image(\"crop\",img_crop,4)\n",
    "\n",
    "writer.close()"
   ]
  }
 ],
 "metadata": {
  "kernelspec": {
   "display_name": "torch",
   "language": "python",
   "name": "python3"
  },
  "language_info": {
   "codemirror_mode": {
    "name": "ipython",
    "version": 3
   },
   "file_extension": ".py",
   "mimetype": "text/x-python",
   "name": "python",
   "nbconvert_exporter": "python",
   "pygments_lexer": "ipython3",
   "version": "3.10.13"
  }
 },
 "nbformat": 4,
 "nbformat_minor": 2
}
