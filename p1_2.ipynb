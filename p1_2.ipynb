{
 "cells": [
  {
   "cell_type": "code",
   "execution_count": 1,
   "metadata": {},
   "outputs": [],
   "source": [
    "import torch\n",
    "import numpy as np\n",
    "import os"
   ]
  },
  {
   "cell_type": "code",
   "execution_count": 2,
   "metadata": {},
   "outputs": [
    {
     "name": "stdout",
     "output_type": "stream",
     "text": [
      "True\n"
     ]
    }
   ],
   "source": [
    "print(torch.cuda.is_available())"
   ]
  },
  {
   "cell_type": "markdown",
   "metadata": {},
   "source": [
    "##### 1、数据加载\n",
    "* Dataset类\n",
    "* Dataloader类"
   ]
  },
  {
   "cell_type": "markdown",
   "metadata": {},
   "source": [
    "第一种方式是将相同label的数据放到相同的文件夹中"
   ]
  },
  {
   "cell_type": "code",
   "execution_count": 3,
   "metadata": {},
   "outputs": [],
   "source": [
    "from torch.utils.data import Dataset\n",
    "from PIL import Image\n",
    "\n",
    "class MyData(Dataset):\n",
    "\n",
    "    def __init__(self,root_dir,label_dir):\n",
    "        self.root_dir = root_dir\n",
    "        self.label_dir = label_dir\n",
    "        self.path = os.path.join(self.root_dir,self.label_dir)\n",
    "        self.img_set = os.listdir(self.path)\n",
    "\n",
    "    def __getitem__(self, index):\n",
    "        img_name = self.img_set[index]\n",
    "        img_path = os.path.join(self.path,img_name)\n",
    "        img = Image.open(img_path)\n",
    "        img_label = self.label_dir\n",
    "\n",
    "        return img,img_label\n",
    "    \n",
    "    def __len__(self):\n",
    "\n",
    "        return len(self.img_set)"
   ]
  },
  {
   "cell_type": "code",
   "execution_count": 4,
   "metadata": {},
   "outputs": [],
   "source": [
    "#数据导入实例\n",
    "root_dir = \"E:\\\\sharing\\\\OneDrive - tju.edu.cn\\\\pytorch_learning_3_Nove_2023\\\\Dataset\\\\hymenoptera_data\\\\train\"\n",
    "label_dir_ants = \"ants\"\n",
    "label_dir_bees = \"bees\"\n",
    "\n",
    "ants_dataset = MyData(root_dir,label_dir_ants)\n",
    "bees_dataset = MyData(root_dir,label_dir_bees)\n",
    "\n",
    "train_dataset = ants_dataset + bees_dataset\n",
    "\n",
    "img,label = train_dataset[125]\n",
    "img.show()"
   ]
  },
  {
   "cell_type": "markdown",
   "metadata": {},
   "source": [
    "第二种方式是用另外的文件夹单独存储数据的label"
   ]
  },
  {
   "cell_type": "code",
   "execution_count": 5,
   "metadata": {},
   "outputs": [],
   "source": [
    "class MyData2(Dataset):\n",
    "    \n",
    "    def __init__(self,root_dir,img_dir,label_dir):\n",
    "        self.root_dir = root_dir\n",
    "        self.img_dir = img_dir\n",
    "        self.label_dir = label_dir\n",
    "        self.img_path = os.path.join(self.root_dir,self.img_dir)\n",
    "        self.label_path = os.path.join(self.root_dir,self.label_dir)\n",
    "        self.img_set = os.listdir(self.img_path)\n",
    "        self.label_set = os.listdir(self.label_path)\n",
    "        \n",
    "    def __getitem__(self, index):\n",
    "        img_name = self.img_set[index]\n",
    "        label_name = self.label_set[index]\n",
    "        img_path = os.path.join(self.img_path,img_name)\n",
    "        label_path = os.path.join(self.label_path,label_name)\n",
    "        img = Image.open(img_path)\n",
    "\n",
    "        txt = open(label_path)\n",
    "        label = \"\"\n",
    "        for line in txt:\n",
    "            label = str(line)\n",
    "\n",
    "        return img,label\n",
    "    \n",
    "    def __len__(self):\n",
    "\n",
    "        return len(self.img_set)\n"
   ]
  },
  {
   "cell_type": "code",
   "execution_count": 6,
   "metadata": {},
   "outputs": [
    {
     "name": "stdout",
     "output_type": "stream",
     "text": [
      "ants\n"
     ]
    }
   ],
   "source": [
    "root_dir = \"E:\\\\sharing\\\\OneDrive - tju.edu.cn\\\\pytorch_learning_3_Nove_2023\\\\Dataset\\\\test_dataset\\\\train\"\n",
    "img_dir = \"ants_image\"\n",
    "label_dir = \"ants_label\"\n",
    "\n",
    "ants_dataset = MyData2(root_dir,img_dir,label_dir)\n",
    "\n",
    "img,label = ants_dataset[5]\n",
    "print(label)"
   ]
  },
  {
   "cell_type": "markdown",
   "metadata": {},
   "source": [
    "##### 2、tensorboard的使用"
   ]
  },
  {
   "cell_type": "code",
   "execution_count": 7,
   "metadata": {},
   "outputs": [],
   "source": [
    "from torch.utils.tensorboard import SummaryWriter"
   ]
  },
  {
   "cell_type": "markdown",
   "metadata": {},
   "source": [
    "* SummaryWriter类"
   ]
  },
  {
   "cell_type": "markdown",
   "metadata": {},
   "source": [
    "* 命令行 -- `tensorboard --logdir=logs --port=6007`"
   ]
  },
  {
   "cell_type": "markdown",
   "metadata": {},
   "source": [
    "(--port=6007 是为了自定义主机)"
   ]
  },
  {
   "cell_type": "code",
   "execution_count": 8,
   "metadata": {},
   "outputs": [],
   "source": [
    "#add_scalar()的使用\n",
    "writer = SummaryWriter(\"logs\")\n",
    "\n",
    "for i in range(1,100):\n",
    "    writer.add_scalar(\"y = x\",i,i)\n",
    "    \n",
    "writer.close()"
   ]
  },
  {
   "cell_type": "code",
   "execution_count": 9,
   "metadata": {},
   "outputs": [],
   "source": [
    "#add_image()的使用\n",
    "img_path = \"E:\\\\sharing\\\\OneDrive - tju.edu.cn\\\\pytorch_learning_3_Nove_2023\\\\Dataset\\\\test_dataset\\\\train\\\\ants_image\\\\0013035.jpg\"\n",
    "img = Image.open(img_path)\n",
    "img_array = np.array(img) #将PIL读取的imgFile类型转换为np.array()\n",
    "\n",
    "# print(img_array.shape) #->HWC\n",
    "writer.add_image(\"test\",img_array,1,dataformats = 'HWC')"
   ]
  },
  {
   "cell_type": "code",
   "execution_count": 10,
   "metadata": {},
   "outputs": [],
   "source": [
    "#将图片全部展示出来\n",
    "for idx in range(1,25):\n",
    "    img_temp,label_temp = ants_dataset[idx - 1]\n",
    "    img_temp_array = np.array(img_temp)\n",
    "    \n",
    "    writer.add_image(\"ants\",img_temp_array,idx,dataformats = 'HWC')"
   ]
  }
 ],
 "metadata": {
  "kernelspec": {
   "display_name": "Python 3",
   "language": "python",
   "name": "python3"
  },
  "language_info": {
   "codemirror_mode": {
    "name": "ipython",
    "version": 3
   },
   "file_extension": ".py",
   "mimetype": "text/x-python",
   "name": "python",
   "nbconvert_exporter": "python",
   "pygments_lexer": "ipython3",
   "version": "3.10.13"
  }
 },
 "nbformat": 4,
 "nbformat_minor": 2
}
